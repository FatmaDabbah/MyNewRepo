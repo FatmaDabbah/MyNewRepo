{
  "nbformat": 4,
  "nbformat_minor": 0,
  "metadata": {
    "colab": {
      "provenance": [],
      "authorship_tag": "ABX9TyORaM01f12BpqNB87AwEzbH",
      "include_colab_link": true
    },
    "kernelspec": {
      "name": "python3",
      "display_name": "Python 3"
    },
    "language_info": {
      "name": "python"
    },
    "widgets": {
      "application/vnd.jupyter.widget-state+json": {
        "89619ebc66ad4c088864f29de3fb9861": {
          "model_module": "@jupyter-widgets/controls",
          "model_name": "ButtonModel",
          "model_module_version": "1.5.0",
          "state": {
            "_dom_classes": [],
            "_model_module": "@jupyter-widgets/controls",
            "_model_module_version": "1.5.0",
            "_model_name": "ButtonModel",
            "_view_count": null,
            "_view_module": "@jupyter-widgets/controls",
            "_view_module_version": "1.5.0",
            "_view_name": "ButtonView",
            "button_style": "",
            "description": "Update",
            "disabled": false,
            "icon": "",
            "layout": "IPY_MODEL_a43f70562e164244a05f9c50ab68d5c1",
            "style": "IPY_MODEL_ef4d460061bd408e84c5f93bdb0e5604",
            "tooltip": ""
          }
        },
        "a43f70562e164244a05f9c50ab68d5c1": {
          "model_module": "@jupyter-widgets/base",
          "model_name": "LayoutModel",
          "model_module_version": "1.2.0",
          "state": {
            "_model_module": "@jupyter-widgets/base",
            "_model_module_version": "1.2.0",
            "_model_name": "LayoutModel",
            "_view_count": null,
            "_view_module": "@jupyter-widgets/base",
            "_view_module_version": "1.2.0",
            "_view_name": "LayoutView",
            "align_content": null,
            "align_items": null,
            "align_self": null,
            "border": null,
            "bottom": null,
            "display": null,
            "flex": null,
            "flex_flow": null,
            "grid_area": null,
            "grid_auto_columns": null,
            "grid_auto_flow": null,
            "grid_auto_rows": null,
            "grid_column": null,
            "grid_gap": null,
            "grid_row": null,
            "grid_template_areas": null,
            "grid_template_columns": null,
            "grid_template_rows": null,
            "height": null,
            "justify_content": null,
            "justify_items": null,
            "left": null,
            "margin": null,
            "max_height": null,
            "max_width": null,
            "min_height": null,
            "min_width": null,
            "object_fit": null,
            "object_position": null,
            "order": null,
            "overflow": null,
            "overflow_x": null,
            "overflow_y": null,
            "padding": null,
            "right": null,
            "top": null,
            "visibility": null,
            "width": null
          }
        },
        "ef4d460061bd408e84c5f93bdb0e5604": {
          "model_module": "@jupyter-widgets/controls",
          "model_name": "ButtonStyleModel",
          "model_module_version": "1.5.0",
          "state": {
            "_model_module": "@jupyter-widgets/controls",
            "_model_module_version": "1.5.0",
            "_model_name": "ButtonStyleModel",
            "_view_count": null,
            "_view_module": "@jupyter-widgets/base",
            "_view_module_version": "1.2.0",
            "_view_name": "StyleView",
            "button_color": null,
            "font_weight": ""
          }
        }
      }
    }
  },
  "cells": [
    {
      "cell_type": "markdown",
      "metadata": {
        "id": "view-in-github",
        "colab_type": "text"
      },
      "source": [
        "<a href=\"https://colab.research.google.com/github/FatmaDabbah/MyNewRepo/blob/main/targil1.ipynb\" target=\"_parent\"><img src=\"https://colab.research.google.com/assets/colab-badge.svg\" alt=\"Open In Colab\"/></a>"
      ]
    },
    {
      "cell_type": "code",
      "execution_count": 2,
      "metadata": {
        "colab": {
          "base_uri": "https://localhost:8080/"
        },
        "id": "NLuw9m5A7tDW",
        "outputId": "8e15abba-0b99-450b-f1bc-8998dcc5cac0"
      },
      "outputs": [
        {
          "output_type": "stream",
          "name": "stdout",
          "text": [
            "6\n"
          ]
        }
      ],
      "source": [
        "x=6\n",
        "print(x)"
      ]
    },
    {
      "cell_type": "code",
      "source": [
        "import ipywidgets as widgets\n",
        "from IPython.display import display\n",
        "\n",
        "# @title Default title text\n",
        "student = \"fatma\" # @param [\"fatma\",\"manal\",\"nahla\",\"mohamad\"] {\"allow-input\":true}\n",
        "text = \"\" # @param {\"type\":\"string\"}\n",
        "# Read all lines from the file\n",
        "with open(\"students.txt\", \"r\", encoding=\"utf-8\") as f:\n",
        "    lines = f.readlines()\n",
        "\n",
        "# Find the matching student info\n",
        "for line in lines:\n",
        "    if line.lower().startswith(student):\n",
        "        print(\"Student info:\")\n",
        "        print(line.strip())\n",
        "        break\n",
        "\n",
        "# יצירת כפתור\n",
        "button = widgets.Button(description=\"Update\")\n",
        "\n",
        "# יצירת תיבת פלט\n",
        "output = widgets.Output()\n",
        "\n",
        "# פונקציה שתופעל בלחיצה על הכפתור\n",
        "def on_button_clicked(b):\n",
        "    # קריאת כל השורות מהקובץ\n",
        "    with open(\"students.txt\", \"r\", encoding=\"utf-8\") as f:\n",
        "        lines = f.readlines()\n",
        "\n",
        "   # Update the specific line\n",
        "for i in range(len(lines)):\n",
        "    if lines[i].lower().startswith(student.lower()):\n",
        "        lines[i] = lines[i].strip() +\" My favorite is \"+ text +\"\\n\"\n",
        "        break\n",
        "\n",
        "# Write all lines back to the file (overwrite)\n",
        "with open(\"students.txt\", \"w\", encoding=\"utf-8\") as f:\n",
        "    f.writelines(lines)\n",
        "    f.writelines(\"\\n\")\n",
        "\n",
        "\n",
        "# חיבור הכפתור לפונקציה\n",
        "button.on_click(on_button_clicked)\n",
        "display(button)"
      ],
      "metadata": {
        "colab": {
          "base_uri": "https://localhost:8080/",
          "height": 104,
          "referenced_widgets": [
            "89619ebc66ad4c088864f29de3fb9861",
            "a43f70562e164244a05f9c50ab68d5c1",
            "ef4d460061bd408e84c5f93bdb0e5604"
          ]
        },
        "collapsed": true,
        "id": "kzhz5MRA9jQq",
        "outputId": "2b3fda88-53b4-4754-8908-dfaa9910ed6a"
      },
      "execution_count": 21,
      "outputs": [
        {
          "output_type": "stream",
          "name": "stdout",
          "text": [
            "Student info:\n",
            "fatma, dabbah ,fatma.dabbah@e.braude.ac.il ,{פיזיקה,בינה מלאכותית,מבוא למחשוב ענן,תורת קימפולציה},https://www.google.com/search?gs_ssp=eJzj4tTP1TewzEouKzZg9GKvzC8tKU1KBQA_-AaN&q=youtube&rlz=1C1KNTJ_iwIL1050IL1050&oq=youEgZjaHJvbWUqBgg\n"
          ]
        },
        {
          "output_type": "display_data",
          "data": {
            "text/plain": [
              "Button(description='Update', style=ButtonStyle())"
            ],
            "application/vnd.jupyter.widget-view+json": {
              "version_major": 2,
              "version_minor": 0,
              "model_id": "89619ebc66ad4c088864f29de3fb9861"
            }
          },
          "metadata": {}
        }
      ]
    }
  ]
}