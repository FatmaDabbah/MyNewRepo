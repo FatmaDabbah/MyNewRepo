{
  "nbformat": 4,
  "nbformat_minor": 0,
  "metadata": {
    "colab": {
      "provenance": [],
      "authorship_tag": "ABX9TyOwvsp8ZdFSfDyl5tAd1wgO",
      "include_colab_link": true
    },
    "kernelspec": {
      "name": "python3",
      "display_name": "Python 3"
    },
    "language_info": {
      "name": "python"
    },
    "widgets": {
      "application/vnd.jupyter.widget-state+json": {
        "65eca9fd8f87458eaade52f5bdfc0d04": {
          "model_module": "@jupyter-widgets/controls",
          "model_name": "ButtonModel",
          "model_module_version": "1.5.0",
          "state": {
            "_dom_classes": [],
            "_model_module": "@jupyter-widgets/controls",
            "_model_module_version": "1.5.0",
            "_model_name": "ButtonModel",
            "_view_count": null,
            "_view_module": "@jupyter-widgets/controls",
            "_view_module_version": "1.5.0",
            "_view_name": "ButtonView",
            "button_style": "",
            "description": "Update",
            "disabled": false,
            "icon": "",
            "layout": "IPY_MODEL_8aceb8239c8944c8a5e14b1391016513",
            "style": "IPY_MODEL_a2330dd067ce429596c0c37325790a9b",
            "tooltip": ""
          }
        },
        "8aceb8239c8944c8a5e14b1391016513": {
          "model_module": "@jupyter-widgets/base",
          "model_name": "LayoutModel",
          "model_module_version": "1.2.0",
          "state": {
            "_model_module": "@jupyter-widgets/base",
            "_model_module_version": "1.2.0",
            "_model_name": "LayoutModel",
            "_view_count": null,
            "_view_module": "@jupyter-widgets/base",
            "_view_module_version": "1.2.0",
            "_view_name": "LayoutView",
            "align_content": null,
            "align_items": null,
            "align_self": null,
            "border": null,
            "bottom": null,
            "display": null,
            "flex": null,
            "flex_flow": null,
            "grid_area": null,
            "grid_auto_columns": null,
            "grid_auto_flow": null,
            "grid_auto_rows": null,
            "grid_column": null,
            "grid_gap": null,
            "grid_row": null,
            "grid_template_areas": null,
            "grid_template_columns": null,
            "grid_template_rows": null,
            "height": null,
            "justify_content": null,
            "justify_items": null,
            "left": null,
            "margin": null,
            "max_height": null,
            "max_width": null,
            "min_height": null,
            "min_width": null,
            "object_fit": null,
            "object_position": null,
            "order": null,
            "overflow": null,
            "overflow_x": null,
            "overflow_y": null,
            "padding": null,
            "right": null,
            "top": null,
            "visibility": null,
            "width": null
          }
        },
        "a2330dd067ce429596c0c37325790a9b": {
          "model_module": "@jupyter-widgets/controls",
          "model_name": "ButtonStyleModel",
          "model_module_version": "1.5.0",
          "state": {
            "_model_module": "@jupyter-widgets/controls",
            "_model_module_version": "1.5.0",
            "_model_name": "ButtonStyleModel",
            "_view_count": null,
            "_view_module": "@jupyter-widgets/base",
            "_view_module_version": "1.2.0",
            "_view_name": "StyleView",
            "button_color": null,
            "font_weight": ""
          }
        }
      }
    }
  },
  "cells": [
    {
      "cell_type": "markdown",
      "metadata": {
        "id": "view-in-github",
        "colab_type": "text"
      },
      "source": [
        "<a href=\"https://colab.research.google.com/github/FatmaDabbah/MyNewRepo/blob/main/Untitled1.ipynb\" target=\"_parent\"><img src=\"https://colab.research.google.com/assets/colab-badge.svg\" alt=\"Open In Colab\"/></a>"
      ]
    },
    {
      "cell_type": "code",
      "execution_count": 2,
      "metadata": {
        "colab": {
          "base_uri": "https://localhost:8080/"
        },
        "id": "NLuw9m5A7tDW",
        "outputId": "8e15abba-0b99-450b-f1bc-8998dcc5cac0"
      },
      "outputs": [
        {
          "output_type": "stream",
          "name": "stdout",
          "text": [
            "6\n"
          ]
        }
      ],
      "source": [
        "x=6\n",
        "print(x)"
      ]
    },
    {
      "cell_type": "code",
      "source": [
        "import ipywidgets as widgets\n",
        "from IPython.display import display\n",
        "\n",
        "# @title Default title text\n",
        "student = \"mohamad\" # @param [\"fatma\",\"manal\",\"nahla\",\"mohamad\"] {\"allow-input\":true}\n",
        "text = \"i am cat\" # @param {\"type\":\"string\"}\n",
        "# Read all lines from the file\n",
        "with open(\"students.txt\", \"r\", encoding=\"utf-8\") as f:\n",
        "    lines = f.readlines()\n",
        "\n",
        "# Find the matching student info\n",
        "for line in lines:\n",
        "    if line.lower().startswith(student):\n",
        "        print(\"Student info:\")\n",
        "        print(line.strip())\n",
        "        break\n",
        "\n",
        "# יצירת כפתור\n",
        "button = widgets.Button(description=\"Update\")\n",
        "\n",
        "# יצירת תיבת פלט\n",
        "output = widgets.Output()\n",
        "\n",
        "# פונקציה שתופעל בלחיצה על הכפתור\n",
        "def on_button_clicked(b):\n",
        "    # קריאת כל השורות מהקובץ\n",
        "    with open(\"students.txt\", \"r\", encoding=\"utf-8\") as f:\n",
        "        lines = f.readlines()\n",
        "\n",
        "   # Update the specific line\n",
        "for i in range(len(lines)):\n",
        "    if lines[i].lower().startswith(student.lower()):\n",
        "        lines[i] = lines[i].strip() +\" My favorite is \"+ text +\"\\n\"\n",
        "        break\n",
        "\n",
        "# Write all lines back to the file (overwrite)\n",
        "with open(\"students.txt\", \"w\", encoding=\"utf-8\") as f:\n",
        "    f.writelines(lines)\n",
        "    f.writelines(\"\\n\")\n",
        "\n",
        "\n",
        "# חיבור הכפתור לפונקציה\n",
        "button.on_click(on_button_clicked)\n",
        "display(button)"
      ],
      "metadata": {
        "colab": {
          "base_uri": "https://localhost:8080/",
          "height": 104,
          "referenced_widgets": [
            "65eca9fd8f87458eaade52f5bdfc0d04",
            "8aceb8239c8944c8a5e14b1391016513",
            "a2330dd067ce429596c0c37325790a9b"
          ]
        },
        "collapsed": true,
        "id": "kzhz5MRA9jQq",
        "outputId": "8da48452-f98c-4a8c-9d72-0d5a6325cd26"
      },
      "execution_count": 20,
      "outputs": [
        {
          "output_type": "stream",
          "name": "stdout",
          "text": [
            "Student info:\n",
            "mohamad,atamneh , mohamad.atamneh@e.braude.ac.il ,{שיטות,מבוא למחשוב ענן,תורת קימפולציה},https://www.google.com/search?gs_ssp=eJzj4tTP1TewzEouKzZg9GKvzC8tKU1KBQA_-AaN&q=youtube&rlz=1C1KNTJ_iwIL1050IL1050&oq=you&gs_lcrp=EgZ\n"
          ]
        },
        {
          "output_type": "display_data",
          "data": {
            "text/plain": [
              "Button(description='Update', style=ButtonStyle())"
            ],
            "application/vnd.jupyter.widget-view+json": {
              "version_major": 2,
              "version_minor": 0,
              "model_id": "65eca9fd8f87458eaade52f5bdfc0d04"
            }
          },
          "metadata": {}
        }
      ]
    }
  ]
}